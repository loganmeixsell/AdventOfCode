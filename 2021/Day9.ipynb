{
 "cells": [
  {
   "cell_type": "code",
   "execution_count": 81,
   "id": "charitable-drain",
   "metadata": {},
   "outputs": [
    {
     "data": {
      "text/plain": [
       "['2199943210', '3987894921', '9856789892', '8767896789', '9899965678']"
      ]
     },
     "execution_count": 81,
     "metadata": {},
     "output_type": "execute_result"
    }
   ],
   "source": [
    "datanew = open(\"Input/Day9Example.txt\")\n",
    "datanew = datanew.readlines()\n",
    "finaldata = []\n",
    "for x in datanew:\n",
    "    finaldata.append(x.strip())\n",
    "finaldata"
   ]
  },
  {
   "cell_type": "code",
   "execution_count": 79,
   "id": "deluxe-tuesday",
   "metadata": {},
   "outputs": [
    {
     "data": {
      "text/plain": [
       "550"
      ]
     },
     "execution_count": 79,
     "metadata": {},
     "output_type": "execute_result"
    }
   ],
   "source": [
    "#Part 1\n",
    "ymax = len(finaldata[0])\n",
    "xmax = len(finaldata)\n",
    "lowestnums = []\n",
    "for xcount,value in enumerate(finaldata):\n",
    "    for ycount,value in enumerate(value):\n",
    "        value = int(value)\n",
    "#         print(xcount, ycount, ymax)\n",
    "        if xcount == 0 and ycount == 0:\n",
    "            if value < int(finaldata[xcount+1][ycount]) and value < int(finaldata[xcount][ycount+1]):\n",
    "                lowestnums.append(value)\n",
    "#                 print(\"lowest number\", value)\n",
    "#             print(\"start of line\")\n",
    "#             print(finaldata[xcount+1][ycount], finaldata[xcount][ycount+1])\n",
    "        elif xcount == 0 and ycount < ymax - 1:\n",
    "            if value < int(finaldata[xcount][ycount-1]) and value < int(finaldata[xcount+1][ycount]) and value < int(finaldata[xcount][ycount+1]):\n",
    "                lowestnums.append(value)\n",
    "#                 print(\"lowest number\", value)\n",
    "#             print(\"middle top\")\n",
    "#             print(finaldata[xcount][ycount-1], finaldata[xcount+1][ycount], finaldata[xcount][ycount+1])\n",
    "        elif xcount == 0 and ycount == ymax - 1:\n",
    "            if value < int(finaldata[xcount][ycount-1]) and value < int(finaldata[xcount+1][ycount]):\n",
    "                lowestnums.append(value)\n",
    "#                 print(\"lowest number\", value)\n",
    "#             print(\"end of line\")\n",
    "#             print(finaldata[xcount][ycount-1], finaldata[xcount+1][ycount])\n",
    "        elif xcount < xmax -1 and ycount == 0:\n",
    "            if value < int(finaldata[xcount-1][ycount]) and value < int(finaldata[xcount+1][ycount]) and value < int(finaldata[xcount][ycount+1]):\n",
    "                lowestnums.append(value)\n",
    "#                 print(\"lowest number\", value)\n",
    "#             print(\"left side\")\n",
    "#             print(finaldata[xcount-1][ycount], finaldata[xcount+1][ycount], finaldata[xcount][ycount+1])\n",
    "        elif xcount < xmax - 1 and ycount < ymax - 1:\n",
    "            if value < int(finaldata[xcount][ycount-1]) and value < int(finaldata[xcount-1][ycount]) and value < int(finaldata[xcount][ycount+1]) and value < int(finaldata[xcount+1][ycount]):\n",
    "                lowestnums.append(value)\n",
    "#                 print(\"lowest number\", value)\n",
    "#             print(\"middle\")\n",
    "#             print(finaldata[xcount][ycount-1], finaldata[xcount-1][ycount], finaldata[xcount+1][ycount], finaldata[xcount][ycount+1])\n",
    "        elif xcount < xmax - 1 and ycount == ymax - 1:\n",
    "            if value < int(finaldata[xcount][ycount-1]) and value < int(finaldata[xcount-1][ycount]) and value < int(finaldata[xcount+1][ycount]):\n",
    "                lowestnums.append(value)\n",
    "#                 print(\"lowest number\", value)\n",
    "#             print(\"end of mid line\")\n",
    "#             print(finaldata[xcount][ycount-1], finaldata[xcount-1][ycount], finaldata[xcount+1][ycount])\n",
    "        elif xcount == xmax - 1 and ycount == 0:\n",
    "            if value < int(finaldata[xcount-1][ycount]) and value < int(finaldata[xcount][ycount+1]):\n",
    "                lowestnums.append(value)\n",
    "#                 print(\"lowest number\", value)\n",
    "#             print(\"bottom left side\")\n",
    "#             print(finaldata[xcount-1][ycount], finaldata[xcount][ycount+1])\n",
    "        elif xcount == xmax - 1 and ycount < ymax - 1:\n",
    "            if value < int(finaldata[xcount][ycount-1]) and value < int(finaldata[xcount-1][ycount]) and value < int(finaldata[xcount][ycount+1]):\n",
    "                lowestnums.append(value)\n",
    "#                 print(\"lowest number\", value)\n",
    "#             print(\"bottom middle\")\n",
    "#             print(finaldata[xcount][ycount-1], finaldata[xcount-1][ycount], finaldata[xcount][ycount+1])\n",
    "        elif xcount == xmax - 1 and ycount == ymax -  1:\n",
    "            if value < int(finaldata[xcount][ycount-1]) and value < int(finaldata[xcount-1][ycount]):\n",
    "                lowestnums.append(value)\n",
    "#                 print(\"lowest number\", value)\n",
    "#             print(\"bottom right\")\n",
    "#             print(finaldata[xcount][ycount-1], finaldata[xcount-1][ycount])\n",
    "totalsum = 0\n",
    "for x in lowestnums:\n",
    "    totalsum += x + 1\n",
    "totalsum"
   ]
  },
  {
   "cell_type": "code",
   "execution_count": 84,
   "id": "searching-allowance",
   "metadata": {},
   "outputs": [
    {
     "name": "stdout",
     "output_type": "stream",
     "text": [
      "0 2 "
     ]
    },
    {
     "ename": "TypeError",
     "evalue": "list indices must be integers or slices, not str",
     "output_type": "error",
     "traceback": [
      "\u001b[1;31m---------------------------------------------------------------------------\u001b[0m",
      "\u001b[1;31mTypeError\u001b[0m                                 Traceback (most recent call last)",
      "\u001b[1;32m<ipython-input-84-b4a5e117db48>\u001b[0m in \u001b[0;36m<module>\u001b[1;34m\u001b[0m\n\u001b[0;32m     16\u001b[0m \u001b[1;33m\u001b[0m\u001b[0m\n\u001b[0;32m     17\u001b[0m \u001b[1;31m# Driver Code\u001b[0m\u001b[1;33m\u001b[0m\u001b[1;33m\u001b[0m\u001b[1;33m\u001b[0m\u001b[0m\n\u001b[1;32m---> 18\u001b[1;33m \u001b[0mbfs\u001b[0m\u001b[1;33m(\u001b[0m\u001b[0mvisited\u001b[0m\u001b[1;33m,\u001b[0m \u001b[0mfinaldata\u001b[0m\u001b[1;33m,\u001b[0m \u001b[1;36m0\u001b[0m\u001b[1;33m)\u001b[0m\u001b[1;33m\u001b[0m\u001b[1;33m\u001b[0m\u001b[0m\n\u001b[0m",
      "\u001b[1;32m<ipython-input-84-b4a5e117db48>\u001b[0m in \u001b[0;36mbfs\u001b[1;34m(visited, graph, node)\u001b[0m\n\u001b[0;32m     10\u001b[0m     \u001b[0mprint\u001b[0m \u001b[1;33m(\u001b[0m\u001b[0ms\u001b[0m\u001b[1;33m,\u001b[0m \u001b[0mend\u001b[0m \u001b[1;33m=\u001b[0m \u001b[1;34m\" \"\u001b[0m\u001b[1;33m)\u001b[0m\u001b[1;33m\u001b[0m\u001b[1;33m\u001b[0m\u001b[0m\n\u001b[0;32m     11\u001b[0m \u001b[1;33m\u001b[0m\u001b[0m\n\u001b[1;32m---> 12\u001b[1;33m     \u001b[1;32mfor\u001b[0m \u001b[0mneighbour\u001b[0m \u001b[1;32min\u001b[0m \u001b[0mgraph\u001b[0m\u001b[1;33m[\u001b[0m\u001b[0ms\u001b[0m\u001b[1;33m]\u001b[0m\u001b[1;33m:\u001b[0m\u001b[1;33m\u001b[0m\u001b[1;33m\u001b[0m\u001b[0m\n\u001b[0m\u001b[0;32m     13\u001b[0m       \u001b[1;32mif\u001b[0m \u001b[0mneighbour\u001b[0m \u001b[1;32mnot\u001b[0m \u001b[1;32min\u001b[0m \u001b[0mvisited\u001b[0m\u001b[1;33m:\u001b[0m\u001b[1;33m\u001b[0m\u001b[1;33m\u001b[0m\u001b[0m\n\u001b[0;32m     14\u001b[0m         \u001b[0mvisited\u001b[0m\u001b[1;33m.\u001b[0m\u001b[0mappend\u001b[0m\u001b[1;33m(\u001b[0m\u001b[0mneighbour\u001b[0m\u001b[1;33m)\u001b[0m\u001b[1;33m\u001b[0m\u001b[1;33m\u001b[0m\u001b[0m\n",
      "\u001b[1;31mTypeError\u001b[0m: list indices must be integers or slices, not str"
     ]
    }
   ],
   "source": [
    "visited = [] # List to keep track of visited nodes.\n",
    "queue = []     #Initialize a queue\n",
    "\n",
    "def bfs(visited, graph, node):\n",
    "  visited.append(node)\n",
    "  queue.append(node)\n",
    "\n",
    "  while queue:\n",
    "    s = queue.pop(0) \n",
    "    print (s, end = \" \") \n",
    "\n",
    "    for neighbour in graph[s]:\n",
    "      if neighbour not in visited:\n",
    "        visited.append(neighbour)\n",
    "        queue.append(neighbour)\n",
    "\n",
    "# Driver Code\n",
    "bfs(visited, finaldata, 0)"
   ]
  },
  {
   "cell_type": "code",
   "execution_count": 85,
   "id": "matched-placement",
   "metadata": {},
   "outputs": [
    {
     "data": {
      "text/plain": [
       "['2199943210', '3987894921', '9856789892', '8767896789', '9899965678']"
      ]
     },
     "execution_count": 85,
     "metadata": {},
     "output_type": "execute_result"
    }
   ],
   "source": [
    "finaldata"
   ]
  },
  {
   "cell_type": "code",
   "execution_count": 87,
   "id": "annual-african",
   "metadata": {},
   "outputs": [
    {
     "ename": "ValueError",
     "evalue": "min() arg is an empty sequence",
     "output_type": "error",
     "traceback": [
      "\u001b[1;31m---------------------------------------------------------------------------\u001b[0m",
      "\u001b[1;31mValueError\u001b[0m                                Traceback (most recent call last)",
      "\u001b[1;32m<ipython-input-87-f2ccab951f4b>\u001b[0m in \u001b[0;36m<module>\u001b[1;34m\u001b[0m\n\u001b[0;32m     16\u001b[0m             \u001b[1;32mif\u001b[0m \u001b[0mi\u001b[0m \u001b[1;33m+\u001b[0m \u001b[0mmove\u001b[0m\u001b[1;33m[\u001b[0m\u001b[1;36m0\u001b[0m\u001b[1;33m]\u001b[0m \u001b[1;32min\u001b[0m \u001b[0mrange\u001b[0m\u001b[1;33m(\u001b[0m\u001b[0mlen\u001b[0m\u001b[1;33m(\u001b[0m\u001b[0minput\u001b[0m\u001b[1;33m)\u001b[0m\u001b[1;33m)\u001b[0m \u001b[1;32mand\u001b[0m \u001b[0mj\u001b[0m \u001b[1;33m+\u001b[0m \u001b[0mmove\u001b[0m\u001b[1;33m[\u001b[0m\u001b[1;36m1\u001b[0m\u001b[1;33m]\u001b[0m \u001b[1;32min\u001b[0m \u001b[0mrange\u001b[0m\u001b[1;33m(\u001b[0m\u001b[0mlen\u001b[0m\u001b[1;33m(\u001b[0m\u001b[0minput\u001b[0m\u001b[1;33m)\u001b[0m\u001b[1;33m)\u001b[0m\u001b[1;33m:\u001b[0m\u001b[1;33m\u001b[0m\u001b[1;33m\u001b[0m\u001b[0m\n\u001b[0;32m     17\u001b[0m                 \u001b[0mneighbors\u001b[0m\u001b[1;33m.\u001b[0m\u001b[0mappend\u001b[0m\u001b[1;33m(\u001b[0m\u001b[0minput\u001b[0m\u001b[1;33m[\u001b[0m\u001b[0mi\u001b[0m \u001b[1;33m+\u001b[0m \u001b[0mmove\u001b[0m\u001b[1;33m[\u001b[0m\u001b[1;36m0\u001b[0m\u001b[1;33m]\u001b[0m\u001b[1;33m]\u001b[0m\u001b[1;33m[\u001b[0m\u001b[0mj\u001b[0m \u001b[1;33m+\u001b[0m \u001b[0mmove\u001b[0m\u001b[1;33m[\u001b[0m\u001b[1;36m1\u001b[0m\u001b[1;33m]\u001b[0m\u001b[1;33m]\u001b[0m\u001b[1;33m)\u001b[0m\u001b[1;33m\u001b[0m\u001b[1;33m\u001b[0m\u001b[0m\n\u001b[1;32m---> 18\u001b[1;33m         \u001b[1;32mif\u001b[0m \u001b[0mmin\u001b[0m\u001b[1;33m(\u001b[0m\u001b[0mneighbors\u001b[0m\u001b[1;33m)\u001b[0m \u001b[1;33m>\u001b[0m \u001b[0my\u001b[0m\u001b[1;33m:\u001b[0m\u001b[1;33m\u001b[0m\u001b[1;33m\u001b[0m\u001b[0m\n\u001b[0m\u001b[0;32m     19\u001b[0m             \u001b[0mlow_coords\u001b[0m\u001b[1;33m.\u001b[0m\u001b[0mappend\u001b[0m\u001b[1;33m(\u001b[0m\u001b[1;33m(\u001b[0m\u001b[0mi\u001b[0m\u001b[1;33m,\u001b[0m \u001b[0mj\u001b[0m\u001b[1;33m)\u001b[0m\u001b[1;33m)\u001b[0m\u001b[1;33m\u001b[0m\u001b[1;33m\u001b[0m\u001b[0m\n",
      "\u001b[1;31mValueError\u001b[0m: min() arg is an empty sequence"
     ]
    }
   ],
   "source": [
    "def readInputFile(path):\n",
    "    with open(\"Input/Day9Example.txt\") as file:\n",
    "        lines = file.readlines()\n",
    "        raw_input = [line.strip() for line in lines]\n",
    "        return [[int(c) for c in x] for x in raw_input]\n",
    "    \n",
    "input = readInputFile('yep')\n",
    "low_coords = []\n",
    "moves = [(-1, 0), (1, 0), (0, -1), (0, 1)]\n",
    "for i, x in enumerate(input):\n",
    "    for j, y in enumerate(input[i]):\n",
    "        neighbors = []\n",
    "\n",
    "\n",
    "        for move in moves:\n",
    "            if i + move[0] in range(len(input)) and j + move[1] in range(len(input)):\n",
    "                neighbors.append(input[i + move[0]][j + move[1]])\n",
    "        if min(neighbors) > y:\n",
    "            low_coords.append((i, j))"
   ]
  },
  {
   "cell_type": "code",
   "execution_count": 89,
   "id": "taken-owner",
   "metadata": {},
   "outputs": [
    {
     "data": {
      "text/plain": [
       "[[2, 1, 9, 9, 9, 4, 3, 2, 1, 0],\n",
       " [3, 9, 8, 7, 8, 9, 4, 9, 2, 1],\n",
       " [9, 8, 5, 6, 7, 8, 9, 8, 9, 2],\n",
       " [8, 7, 6, 7, 8, 9, 6, 7, 8, 9],\n",
       " [9, 8, 9, 9, 9, 6, 5, 6, 7, 8]]"
      ]
     },
     "execution_count": 89,
     "metadata": {},
     "output_type": "execute_result"
    }
   ],
   "source": [
    "test = readInputFile(\"test\")\n",
    "test"
   ]
  },
  {
   "cell_type": "code",
   "execution_count": 4,
   "id": "liberal-encyclopedia",
   "metadata": {},
   "outputs": [
    {
     "name": "stdout",
     "output_type": "stream",
     "text": [
      "550\n",
      "1100682\n"
     ]
    }
   ],
   "source": [
    "from math import prod\n",
    "\n",
    "def part1(input_file):\n",
    "    input = readInputFile(input_file)\n",
    "#     print(input)\n",
    "    low_points = []\n",
    "    for i, x in enumerate(input):\n",
    "        for j, y in enumerate(input[i]):\n",
    "            neighbors = []\n",
    "            moves = [(-1, 0), (1, 0), (0, -1), (0, 1)]\n",
    "\n",
    "            for move in moves:\n",
    "                if i + move[0] in range(len(input)) and j + move[1] in range(len(input)):\n",
    "                    neighbors.append(input[i + move[0]][j + move[1]])\n",
    "            if min(neighbors) > y:\n",
    "                low_points.append(y)\n",
    "    risk_levels = [p+1 for p in low_points]\n",
    "    print(sum(risk_levels))\n",
    "    return\n",
    "\n",
    "\n",
    "\n",
    "\n",
    "def part2(input_file):\n",
    "    input = readInputFile(input_file)\n",
    "    low_coords = []\n",
    "    moves = [(-1, 0), (1, 0), (0, -1), (0, 1)]\n",
    "    for i, x in enumerate(input):\n",
    "        for j, y in enumerate(input[i]):\n",
    "            neighbors = []\n",
    "\n",
    "\n",
    "            for move in moves:\n",
    "                if i + move[0] in range(len(input)) and j + move[1] in range(len(input)):\n",
    "                    neighbors.append(input[i + move[0]][j + move[1]])\n",
    "            if min(neighbors) > y:\n",
    "                low_coords.append((i, j))\n",
    "\n",
    "    basins = []\n",
    "#     print(low_coords)\n",
    "    for point in low_coords:\n",
    "\n",
    "        visited = [point]\n",
    "        queue = [point]\n",
    "\n",
    "        while queue:\n",
    "            point = queue.pop(0)\n",
    "        \n",
    "            for move in moves:\n",
    "                if point[0] + move[0] in range(len(input)) and point[1] + move[1] in range(len(input[0])):\n",
    "                    neighbor_val = input[point[0]+move[0]][point[1]+move[1]]\n",
    "                    neighbor_coord = (point[0]+move[0], point[1]+move[1])\n",
    "\n",
    "                    if neighbor_coord not in visited and neighbor_val != 9 and neighbor_val > input[point[0]][point[1]]:\n",
    "                        visited.append(neighbor_coord)\n",
    "                        queue.append(neighbor_coord)\n",
    "\n",
    "        basins.append(len(visited))\n",
    "\n",
    "    basins = sorted(basins)\n",
    "    print(prod(basins[-3:]))\n",
    "\n",
    "    return\n",
    "\n",
    "\n",
    "def readInputFile(path):\n",
    "    with open(path) as file:\n",
    "        lines = file.readlines()\n",
    "        raw_input = [line.strip() for line in lines]\n",
    "        return [[int(c) for c in x] for x in raw_input]\n",
    "\n",
    "\n",
    "if __name__ == '__main__':\n",
    "    part1('Input/Day9Input.txt')\n",
    "    part2('Input/Day9Input.txt')"
   ]
  },
  {
   "cell_type": "code",
   "execution_count": 108,
   "id": "electronic-strip",
   "metadata": {},
   "outputs": [
    {
     "name": "stdout",
     "output_type": "stream",
     "text": [
      "A B C D E F "
     ]
    }
   ],
   "source": [
    "graph = {\n",
    "  'A' : ['B','C'],\n",
    "  'B' : ['D', 'E'],\n",
    "  'C' : ['F'],\n",
    "  'D' : [],\n",
    "  'E' : ['F'],\n",
    "  'F' : []\n",
    "}\n",
    "\n",
    "visited = [] # List to keep track of visited nodes.\n",
    "queue = []     #Initialize a queue\n",
    "\n",
    "def bfs(visited, graph, node):\n",
    "  visited.append(node)\n",
    "  queue.append(node)\n",
    "\n",
    "  while queue:\n",
    "    s = queue.pop(0) \n",
    "    print (s, end = \" \") \n",
    "\n",
    "    for neighbour in graph[s]:\n",
    "      if neighbour not in visited:\n",
    "        visited.append(neighbour)\n",
    "        queue.append(neighbour)\n",
    "\n",
    "# Driver Code\n",
    "bfs(visited, graph, 'A')"
   ]
  },
  {
   "cell_type": "code",
   "execution_count": 120,
   "id": "pending-technician",
   "metadata": {},
   "outputs": [
    {
     "name": "stdout",
     "output_type": "stream",
     "text": [
      "Following is the Breadth-First Search\n",
      "5 3 7 2 4 8 "
     ]
    }
   ],
   "source": [
    "graph = {\n",
    "  '5' : ['3','7'],\n",
    "  '3' : ['2', '4'],\n",
    "  '7' : ['8'],\n",
    "  '2' : [],\n",
    "  '4' : ['8'],\n",
    "  '8' : []\n",
    "}\n",
    "\n",
    "visited = [] # List for visited nodes.\n",
    "queue = []     #Initialize a queue\n",
    "\n",
    "def bfs(visited, graph, node): #function for BFS\n",
    "    visited.append(node)\n",
    "    queue.append(node)\n",
    "\n",
    "    while queue:\n",
    "#         print (queue) # Creating loop to visit each node\n",
    "        m = queue.pop(0) \n",
    "        print (m, end = \" \") \n",
    "\n",
    "        for neighbour in graph[m]:\n",
    "#             print(f\"Neighbor is {neighbour}\")\n",
    "            if neighbour not in visited:\n",
    "                visited.append(neighbour)\n",
    "                queue.append(neighbour)\n",
    "#                 print(queue)\n",
    "\n",
    "# Driver Code\n",
    "print(\"Following is the Breadth-First Search\")\n",
    "bfs(visited, graph, '5')    # function calling"
   ]
  },
  {
   "cell_type": "code",
   "execution_count": 111,
   "id": "orange-arrival",
   "metadata": {},
   "outputs": [
    {
     "name": "stdout",
     "output_type": "stream",
     "text": [
      "Following is the Breadth-First Search\n",
      "5 3 7 2 4 8 "
     ]
    }
   ],
   "source": [
    "graph = {\n",
    "  '5' : ['3','7'],\n",
    "  '3' : ['2', '4'],\n",
    "  '7' : ['8'],\n",
    "  '2' : [],\n",
    "  '4' : ['8'],\n",
    "  '8' : []\n",
    "}\n",
    "\n",
    "visited = [] # List for visited nodes.\n",
    "queue = []     #Initialize a queue\n",
    "\n",
    "def bfs(visited, graph, node): #function for BFS\n",
    "  visited.append(node)\n",
    "  queue.append(node)\n",
    "\n",
    "  while queue:          # Creating loop to visit each node\n",
    "    m = queue.pop(0) \n",
    "    print (m, end = \" \") \n",
    "\n",
    "    for neighbour in graph[m]:\n",
    "      if neighbour not in visited:\n",
    "        visited.append(neighbour)\n",
    "        queue.append(neighbour)\n",
    "\n",
    "# Driver Code\n",
    "print(\"Following is the Breadth-First Search\")\n",
    "bfs(visited, graph, '5')    # function calling"
   ]
  },
  {
   "cell_type": "code",
   "execution_count": null,
   "id": "residential-disease",
   "metadata": {},
   "outputs": [],
   "source": []
  }
 ],
 "metadata": {
  "kernelspec": {
   "display_name": "Python 3",
   "language": "python",
   "name": "python3"
  },
  "language_info": {
   "codemirror_mode": {
    "name": "ipython",
    "version": 3
   },
   "file_extension": ".py",
   "mimetype": "text/x-python",
   "name": "python",
   "nbconvert_exporter": "python",
   "pygments_lexer": "ipython3",
   "version": "3.8.5"
  }
 },
 "nbformat": 4,
 "nbformat_minor": 5
}
