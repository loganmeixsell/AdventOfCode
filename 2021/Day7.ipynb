{
 "cells": [
  {
   "cell_type": "code",
   "execution_count": 88,
   "id": "appropriate-premises",
   "metadata": {},
   "outputs": [],
   "source": [
    "import numpy as np\n",
    "datanew = open(\"Input/Day7Example.txt\")\n",
    "datanew = datanew.read()\n",
    "datanewsplit = datanew.split(',')\n",
    "nparray = np.array([datanewsplit],dtype = int)\n"
   ]
  },
  {
   "cell_type": "code",
   "execution_count": 41,
   "id": "bacterial-catalog",
   "metadata": {},
   "outputs": [
    {
     "data": {
      "text/plain": [
       "['16', '1', '2', '0', '4']"
      ]
     },
     "execution_count": 41,
     "metadata": {},
     "output_type": "execute_result"
    }
   ],
   "source": [
    "datanewsplit[0:5]"
   ]
  },
  {
   "cell_type": "code",
   "execution_count": 74,
   "id": "identical-graphic",
   "metadata": {},
   "outputs": [
    {
     "data": {
      "text/plain": [
       "446.559"
      ]
     },
     "execution_count": 74,
     "metadata": {},
     "output_type": "execute_result"
    }
   ],
   "source": [
    "np.mean(nparray)\n",
    "# np.max(nparray)"
   ]
  },
  {
   "cell_type": "code",
   "execution_count": 75,
   "id": "interracial-kingdom",
   "metadata": {},
   "outputs": [
    {
     "data": {
      "text/plain": [
       "314.0"
      ]
     },
     "execution_count": 75,
     "metadata": {},
     "output_type": "execute_result"
    }
   ],
   "source": [
    "np.median(nparray)"
   ]
  },
  {
   "cell_type": "code",
   "execution_count": 39,
   "id": "racial-witch",
   "metadata": {},
   "outputs": [
    {
     "name": "stdout",
     "output_type": "stream",
     "text": [
      "323647 314\n"
     ]
    }
   ],
   "source": [
    "#part 1\n",
    "def gascalc(distance):\n",
    "    gasused = 0\n",
    "    for x in datanewsplit:\n",
    "        gasused += abs(int(x)-distance)\n",
    "#         print(int(x),int(x)-distance)\n",
    "    return gasused\n",
    "# gasused = gascalc(2)\n",
    "\n",
    "\n",
    "\n",
    "leastgas = gascalc(1)\n",
    "distancenum = 0\n",
    "for i in range(0,np.max(nparray)):\n",
    "#     print(x)\n",
    "    gasused = gascalc(i)\n",
    "    if gasused < leastgas:\n",
    "        leastgas = gasused\n",
    "        distancenum = i\n",
    "#     print(i, gascalc(i))\n",
    "print(leastgas,distancenum)"
   ]
  },
  {
   "cell_type": "code",
   "execution_count": 83,
   "id": "direct-charger",
   "metadata": {},
   "outputs": [
    {
     "name": "stdout",
     "output_type": "stream",
     "text": [
      "87640209 446\n"
     ]
    }
   ],
   "source": [
    "#part 2\n",
    "def gascalc2(distance):\n",
    "    gasused = 0\n",
    "    for x in datanewsplit:\n",
    "        distancetraveled = abs(int(x)-distance)\n",
    "#         print(distancetraveled)\n",
    "#         print(sum([1 + i for i in range(distancetraveled)]))\n",
    "        gasused += sum([1 + i for i in range(distancetraveled)])\n",
    "#         print(int(x),int(x)-distance)\n",
    "    return gasused\n",
    "\n",
    "leastgas = gascalc2(1)\n",
    "distancenum = 0\n",
    "for i in range(370,470):\n",
    "#     print(x)\n",
    "    gasused = gascalc2(i)\n",
    "#     print(gasused, i)\n",
    "    if gasused < leastgas:\n",
    "        leastgas = gasused\n",
    "        distancenum = i\n",
    "#     print(i, gascalc(i))\n",
    "print(leastgas,distancenum)"
   ]
  },
  {
   "cell_type": "code",
   "execution_count": null,
   "id": "judicial-manual",
   "metadata": {},
   "outputs": [],
   "source": []
  },
  {
   "cell_type": "code",
   "execution_count": 87,
   "id": "disturbed-vampire",
   "metadata": {},
   "outputs": [
    {
     "data": {
      "text/plain": [
       "206"
      ]
     },
     "execution_count": 87,
     "metadata": {},
     "output_type": "execute_result"
    }
   ],
   "source": [
    "gascalc2(2)"
   ]
  },
  {
   "cell_type": "code",
   "execution_count": null,
   "id": "compatible-scanning",
   "metadata": {},
   "outputs": [],
   "source": []
  }
 ],
 "metadata": {
  "kernelspec": {
   "display_name": "Python 3",
   "language": "python",
   "name": "python3"
  },
  "language_info": {
   "codemirror_mode": {
    "name": "ipython",
    "version": 3
   },
   "file_extension": ".py",
   "mimetype": "text/x-python",
   "name": "python",
   "nbconvert_exporter": "python",
   "pygments_lexer": "ipython3",
   "version": "3.8.5"
  }
 },
 "nbformat": 4,
 "nbformat_minor": 5
}
