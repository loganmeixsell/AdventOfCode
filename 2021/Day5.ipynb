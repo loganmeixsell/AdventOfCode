{
 "cells": [
  {
   "cell_type": "code",
   "execution_count": 51,
   "id": "novel-hundred",
   "metadata": {},
   "outputs": [],
   "source": [
    "datanew = open(\"Input/Day5Input.txt\")\n",
    "datanew = datanew.read()\n",
    "datanewsplit = datanew.splitlines()\n",
    "# datanewsplit = datanewsplit.split(' -> ')\n",
    "# datanewsplit = datanewsplit[20]\n",
    "cleanedlist = []\n",
    "for x in datanewsplit:\n",
    "    cleanedlist.append(x.split(' -> '))\n",
    "# cleanedlist = cleanedlist[0:10]\n",
    "thelist = []    \n",
    "for x in cleanedlist:\n",
    "    thelist.append(x[0].split(','))\n",
    "    thelist.append(x[1].split(','))"
   ]
  },
  {
   "cell_type": "code",
   "execution_count": 56,
   "id": "plain-calibration",
   "metadata": {},
   "outputs": [
    {
     "data": {
      "text/plain": [
       "[[0, 0, 0, 0, 0],\n",
       " [0, 0, 0, 0, 0],\n",
       " [0, 0, 0, 0, 0],\n",
       " [0, 0, 0, 0, 0],\n",
       " [0, 0, 0, 0, 0]]"
      ]
     },
     "execution_count": 56,
     "metadata": {},
     "output_type": "execute_result"
    }
   ],
   "source": [
    "emptyboard = ([[0,0,0,0,0],\n",
    "                        [0,0,0,0,0],\n",
    "                        [0,0,0,0,0],\n",
    "                        [0,0,0,0,0],\n",
    "                        [0,0,0,0,0]])\n",
    "emptyboard"
   ]
  },
  {
   "cell_type": "code",
   "execution_count": 167,
   "id": "otherwise-vermont",
   "metadata": {},
   "outputs": [
    {
     "name": "stdout",
     "output_type": "stream",
     "text": [
      "9 9\n"
     ]
    }
   ],
   "source": [
    "highx = 0\n",
    "highy = 0\n",
    "for x in cleanedlist:\n",
    "    x1,y1 = (x[0].split(','))\n",
    "    x2,y2 = (x[1].split(','))\n",
    "#     print(x1,x2,y1,y2)\n",
    "    x1 = int(x1)\n",
    "    x2 = int(x2)\n",
    "    y1 = int(y1)\n",
    "    y2 = int(y2)\n",
    "    if max(x1,x2) > highx:\n",
    "        highx = max(x1,x2)\n",
    "    if max(y1,y2) > highy:\n",
    "        highy = max(y1,y2)\n",
    "#     [highx+= x1 if x1 > x2 else highx=+x2 for ]\n",
    "print(highx,highy)"
   ]
  },
  {
   "cell_type": "code",
   "execution_count": 168,
   "id": "speaking-obligation",
   "metadata": {},
   "outputs": [
    {
     "data": {
      "text/plain": [
       "9"
      ]
     },
     "execution_count": 168,
     "metadata": {},
     "output_type": "execute_result"
    }
   ],
   "source": [
    "emptyGrid = [[0] * highx for i in range(highy)]\n",
    "len(emptyGrid)"
   ]
  },
  {
   "cell_type": "code",
   "execution_count": 52,
   "id": "quiet-pickup",
   "metadata": {},
   "outputs": [],
   "source": [
    "# cleanedlist\n",
    "points = []\n",
    "for x in cleanedlist:\n",
    "    x1,y1 = (x[0].split(','))\n",
    "    x2,y2 = (x[1].split(','))\n",
    "    x1 = int(x1)\n",
    "    x2 = int(x2)\n",
    "    y1 = int(y1)\n",
    "    y2 = int(y2)\n",
    "#     print(x1,x2,y1,y2)\n",
    "    if x1 != x2 and y1 != y2:\n",
    "        totaldif = abs(x2-x1)\n",
    "        for x in range(totaldif+1):\n",
    "            if x1 < x2 and y1 < y2:\n",
    "#                 print(x1+totaldif, y1+totaldif)\n",
    "                points.append(f\"{x1+totaldif} {y1+totaldif}\")\n",
    "                totaldif = totaldif - 1\n",
    "\n",
    "            elif x1 < x2 and y1 > y2:\n",
    "#                 print(f\"{x1+x} {y1-x}\")\n",
    "                points.append(f\"{x1+totaldif} {y1-totaldif}\")\n",
    "                totaldif = totaldif - 1\n",
    "            elif x1 > x2 and y1 < y2:\n",
    "#                 print(f\"{x1-x} {y1+x}\")\n",
    "                points.append(f\"{x1-x} {y1+x}\")\n",
    "            elif x1 > x2 and y1 > y2:\n",
    "#                 print(f\"{x1-x} {y1-x}\")\n",
    "                points.append(f\"{x1-x} {y1-x}\")\n",
    "#         print(x1,x2,y1,y2, totaldif)\n",
    "        pass\n",
    "    if y1 == y2:\n",
    "        ydif = x2 - x1\n",
    "        absydif = abs(ydif)\n",
    "#         print(ydif)\n",
    "        for x in range(abs(ydif)+1):\n",
    "            if ydif <0:\n",
    "                points.append(f\"{x2+absydif} {y1}\")\n",
    "#                 print(x2+absydif, y1)\n",
    "                absydif = absydif - 1\n",
    "                \n",
    "            elif ydif >= 0:\n",
    "                points.append(f\"{x1 + ydif} {y1}\")\n",
    "#                 print(x1 + ydif, y1)\n",
    "                ydif = ydif - 1\n",
    "            \n",
    "    elif x1 == x2:\n",
    "        xdif = y2 - y1\n",
    "        absxdif = abs(xdif)\n",
    "#         print(xdif)\n",
    "        for x in range(abs(xdif) + 1):\n",
    "            if xdif <0:\n",
    "                points.append(f\"{x1} {y2 + absxdif}\")\n",
    "#                 print(x1, y2 + absxdif)\n",
    "                absxdif = absxdif - 1\n",
    "                \n",
    "            elif xdif >= 0:\n",
    "                points.append(f\"{x1} {y1 + xdif}\")\n",
    "#                 print(x1, y1+xdif)\n",
    "                xdif = xdif - 1"
   ]
  },
  {
   "cell_type": "code",
   "execution_count": 193,
   "id": "functioning-constitutional",
   "metadata": {},
   "outputs": [],
   "source": []
  },
  {
   "cell_type": "code",
   "execution_count": 53,
   "id": "manual-business",
   "metadata": {},
   "outputs": [
    {
     "data": {
      "text/plain": [
       "197838"
      ]
     },
     "execution_count": 53,
     "metadata": {},
     "output_type": "execute_result"
    }
   ],
   "source": [
    "len(points)"
   ]
  },
  {
   "cell_type": "code",
   "execution_count": 54,
   "id": "abroad-talent",
   "metadata": {},
   "outputs": [
    {
     "name": "stdout",
     "output_type": "stream",
     "text": [
      "21406\n"
     ]
    }
   ],
   "source": [
    "seen = []\n",
    "for x in points:\n",
    "    if points.count(x) > 1:\n",
    "        if x not in seen:\n",
    "            seen.append(x)\n",
    "#             print(x)\n",
    "print(len(seen))"
   ]
  },
  {
   "cell_type": "code",
   "execution_count": 56,
   "id": "dried-territory",
   "metadata": {},
   "outputs": [],
   "source": [
    "final = [x for x in points if points.count(x)>1]"
   ]
  },
  {
   "cell_type": "code",
   "execution_count": null,
   "id": "normal-mattress",
   "metadata": {},
   "outputs": [],
   "source": []
  },
  {
   "cell_type": "code",
   "execution_count": null,
   "id": "continued-culture",
   "metadata": {},
   "outputs": [],
   "source": []
  },
  {
   "cell_type": "code",
   "execution_count": null,
   "id": "political-madrid",
   "metadata": {},
   "outputs": [],
   "source": []
  }
 ],
 "metadata": {
  "kernelspec": {
   "display_name": "Python 3",
   "language": "python",
   "name": "python3"
  },
  "language_info": {
   "codemirror_mode": {
    "name": "ipython",
    "version": 3
   },
   "file_extension": ".py",
   "mimetype": "text/x-python",
   "name": "python",
   "nbconvert_exporter": "python",
   "pygments_lexer": "ipython3",
   "version": "3.8.5"
  }
 },
 "nbformat": 4,
 "nbformat_minor": 5
}
