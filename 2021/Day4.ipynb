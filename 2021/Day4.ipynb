{
 "cells": [
  {
   "cell_type": "code",
   "execution_count": 199,
   "id": "adverse-aruba",
   "metadata": {},
   "outputs": [],
   "source": [
    "import numpy as np"
   ]
  },
  {
   "cell_type": "code",
   "execution_count": 365,
   "id": "numeric-glass",
   "metadata": {},
   "outputs": [
    {
     "data": {
      "text/plain": [
       "['',\n",
       " '57 12 60 96 93',\n",
       " '73 87 63 70 91',\n",
       " '74 32 43 67 46',\n",
       " '59 34  5 35 82',\n",
       " '53 40 55 29  1',\n",
       " '',\n",
       " '48 71 59 45 63',\n",
       " '13 42 23 95 39',\n",
       " '84 82 10 29  4',\n",
       " '16 91 32 92 62',\n",
       " '99 33 20 21  3',\n",
       " '',\n",
       " '51 20 32 30 90',\n",
       " '86 88 89  1 73',\n",
       " ' 5 64 78 81 22',\n",
       " '95 50  7 27 17',\n",
       " '39 82 46 35 92',\n",
       " '',\n",
       " ' 2 65 21 77 97',\n",
       " '50 46 38 99 82',\n",
       " '22  1 24 63 70',\n",
       " ' 8 32 80 98 35',\n",
       " '57 67 25 81 18',\n",
       " '']"
      ]
     },
     "execution_count": 365,
     "metadata": {},
     "output_type": "execute_result"
    }
   ],
   "source": [
    "datanew = open(\"Input/Day4Input.txt\")\n",
    "datanew = datanew.read()\n",
    "datanewfull = datanew.splitlines()\n",
    "datanew = datanewfull [1:] #[1:13]\n",
    "bingonumbers = datanewfull[0].split(',')\n",
    "datanew[0:25]\n"
   ]
  },
  {
   "cell_type": "code",
   "execution_count": 212,
   "id": "ranking-briefing",
   "metadata": {},
   "outputs": [
    {
     "data": {
      "text/plain": [
       "['26', '38', '2', '15', '36']"
      ]
     },
     "execution_count": 212,
     "metadata": {},
     "output_type": "execute_result"
    }
   ],
   "source": [
    "bingonumbers = datanewfull[0].split(',')\n",
    "bingonumbers[0:5]"
   ]
  },
  {
   "cell_type": "code",
   "execution_count": null,
   "id": "pediatric-pearl",
   "metadata": {},
   "outputs": [],
   "source": []
  },
  {
   "cell_type": "code",
   "execution_count": null,
   "id": "laughing-cache",
   "metadata": {},
   "outputs": [],
   "source": []
  },
  {
   "cell_type": "code",
   "execution_count": null,
   "id": "expanded-russell",
   "metadata": {},
   "outputs": [],
   "source": []
  },
  {
   "cell_type": "code",
   "execution_count": 371,
   "id": "convenient-organ",
   "metadata": {},
   "outputs": [
    {
     "name": "stdout",
     "output_type": "stream",
     "text": [
      "26\n",
      "38\n",
      "2\n",
      "15\n",
      "36\n",
      "8\n",
      "12\n",
      "46\n",
      "88\n",
      "72\n",
      "32\n",
      "35\n",
      "64\n",
      "19\n",
      "5\n",
      "66\n",
      "20\n",
      "52\n",
      "74\n",
      "3\n",
      "59\n",
      "94\n",
      "Found at  43\n"
     ]
    }
   ],
   "source": [
    "# part 1\n",
    "templist = []\n",
    "finallist = []\n",
    "loopnum = 0\n",
    "emptynums = []\n",
    "for x in datanew:\n",
    "#     print(x)\n",
    "    if x == \"\":\n",
    "        pass\n",
    "    else:\n",
    "        templist.append([int(x) for x in x.split()])\n",
    "        loopnum += 1\n",
    "#         print(loopnum)\n",
    "    if loopnum == 5:\n",
    "        loopnum = 0\n",
    "        emptynums.append([[0,0,0,0,0],\n",
    "                        [0,0,0,0,0],\n",
    "                        [0,0,0,0,0],\n",
    "                        [0,0,0,0,0],\n",
    "                        [0,0,0,0,0]])\n",
    "        finallist.append(templist)\n",
    "        templist = []\n",
    "finallist[0]\n",
    "\n",
    "def lookfornum():\n",
    "    for xcount, x in enumerate(emptynums):\n",
    "#         print(x)\n",
    "        pos0 = 0\n",
    "        pos1 = 0\n",
    "        pos2 = 0\n",
    "        pos3 = 0\n",
    "        pos4 = 0\n",
    "        for ycount, y  in enumerate(x):\n",
    "            pos0 += y[0]\n",
    "            pos1 += y[1]\n",
    "            pos2 += y[2]\n",
    "            pos3 += y[3]\n",
    "            pos4 += y[4]\n",
    "            if (sum(y)) == 5:\n",
    "                return(xcount)\n",
    "#             print (sum(y))\n",
    "            if pos0 == 5 or pos1 ==5 or pos2 == 5 or pos3 == 5 or pos4 == 5:\n",
    "                return(xcount)\n",
    "#                 print(emptynums[xcount])\n",
    "\n",
    "def addtoanswer(number):\n",
    "    for xcount, x in enumerate(finallist):\n",
    "        for ycount, y  in enumerate(x):\n",
    "            for zcount, z in enumerate(y):\n",
    "                if z == number:\n",
    "#                     print(xcount,ycount,zcount)\n",
    "                    emptynums[xcount][ycount][zcount]=1\n",
    "def mainrun():\n",
    "    for x in bingonumbers:\n",
    "        print(int(x))\n",
    "        addtoanswer(int(x))\n",
    "        winningboard = lookfornum()\n",
    "        if winningboard:\n",
    "            print(\"Found at \", winningboard)\n",
    "            return winningboard, int(x)\n",
    "winningboard, winningnumber = mainrun()"
   ]
  },
  {
   "cell_type": "code",
   "execution_count": 372,
   "id": "severe-moment",
   "metadata": {},
   "outputs": [
    {
     "name": "stdout",
     "output_type": "stream",
     "text": [
      "417 621 94\n",
      "58374\n"
     ]
    }
   ],
   "source": [
    "# finallist[2]\n",
    "# emptynums[2]\n"
   ]
  },
  {
   "cell_type": "code",
   "execution_count": null,
   "id": "adopted-climb",
   "metadata": {},
   "outputs": [],
   "source": []
  },
  {
   "cell_type": "code",
   "execution_count": 373,
   "id": "played-lambda",
   "metadata": {},
   "outputs": [
    {
     "name": "stdout",
     "output_type": "stream",
     "text": [
      "972 367 31\n",
      "11377\n"
     ]
    }
   ],
   "source": [
    "#part 2\n",
    "templist = []\n",
    "finallist = []\n",
    "loopnum = 0\n",
    "emptynums = []\n",
    "for x in datanew:\n",
    "#     print(x)\n",
    "    if x == \"\":\n",
    "        pass\n",
    "    else:\n",
    "        templist.append([int(x) for x in x.split()])\n",
    "        loopnum += 1\n",
    "#         print(loopnum)\n",
    "    if loopnum == 5:\n",
    "        loopnum = 0\n",
    "        emptynums.append([[0,0,0,0,0],\n",
    "                        [0,0,0,0,0],\n",
    "                        [0,0,0,0,0],\n",
    "                        [0,0,0,0,0],\n",
    "                        [0,0,0,0,0]])\n",
    "        finallist.append(templist)\n",
    "        templist = []\n",
    "finallist[0]\n",
    "\n",
    "def addtoanswer(number):\n",
    "    for xcount, x in enumerate(finallist):\n",
    "        for ycount, y  in enumerate(x):\n",
    "            for zcount, z in enumerate(y):\n",
    "                if z == number:\n",
    "#                     print(xcount,ycount,zcount)\n",
    "                    emptynums[xcount][ycount][zcount]=1\n",
    "def mainrun():\n",
    "    for x in bingonumbers:\n",
    "        addtoanswer(int(x))\n",
    "#         print(int(x))\n",
    "        if len(emptynums) == 1:\n",
    "#             print(emptynums, winningboard)\n",
    "            return int(x)\n",
    "        lookfornum()\n",
    "\n",
    "\n",
    "#         print(len(emptynums))\n",
    "#         if winningboard:\n",
    "#             print(\"Found at \", winningboard)\n",
    "#             print(len(emptynums))\n",
    "#             return winningboard, int(x)\n",
    "        \n",
    "def lookfornum():\n",
    "    for xcount, x in enumerate(emptynums):\n",
    "        pos0 = 0\n",
    "        pos1 = 0\n",
    "        pos2 = 0\n",
    "        pos3 = 0\n",
    "        pos4 = 0\n",
    "        for ycount, y  in enumerate(x):\n",
    "            pos0 += y[0]\n",
    "            pos1 += y[1]\n",
    "            pos2 += y[2]\n",
    "            pos3 += y[3]\n",
    "            pos4 += y[4]\n",
    "            if (sum(y)) == 5:\n",
    "                emptynums.pop(xcount)\n",
    "                finallist.pop(xcount)\n",
    "#                 return(xcount)\n",
    "#             print (sum(y))\n",
    "            if pos0 == 5 or pos1 ==5 or pos2 == 5 or pos3 == 5 or pos4 == 5:\n",
    "                emptynums.pop(xcount)\n",
    "                finallist.pop(xcount)\n",
    "#                 return(xcount)\n",
    "#                 print(emptynums[xcount])\n",
    "\n",
    "winningnumber = mainrun()\n",
    "\n",
    "onecount = 0\n",
    "zerocount = 0\n",
    "for xcount, x in enumerate(emptynums[0]):\n",
    "#     print(x)\n",
    "    for ycount, y in enumerate(x):\n",
    "#         print(finallist[xcount][ycount])\n",
    "        if y == 1:\n",
    "            onecount += int(finallist[0][xcount][ycount])\n",
    "        else:\n",
    "            zerocount += int(finallist[0][xcount][ycount])\n",
    "print(onecount, zerocount, winningnumber)\n",
    "print(zerocount * winningnumber)"
   ]
  },
  {
   "cell_type": "code",
   "execution_count": 338,
   "id": "normal-parks",
   "metadata": {},
   "outputs": [
    {
     "data": {
      "text/plain": [
       "[90, 30, 10, 5, 94]"
      ]
     },
     "execution_count": 338,
     "metadata": {},
     "output_type": "execute_result"
    }
   ],
   "source": [
    "finallist[0][1]"
   ]
  },
  {
   "cell_type": "code",
   "execution_count": 357,
   "id": "impossible-charter",
   "metadata": {},
   "outputs": [
    {
     "data": {
      "text/plain": [
       "([[[0, 0, 1, 1, 0],\n",
       "   [1, 0, 1, 1, 1],\n",
       "   [0, 0, 1, 0, 1],\n",
       "   [0, 1, 1, 1, 1],\n",
       "   [1, 1, 1, 0, 0]]],\n",
       " [[[3, 15, 0, 2, 22],\n",
       "   [9, 18, 13, 17, 5],\n",
       "   [19, 8, 7, 25, 23],\n",
       "   [20, 11, 10, 24, 4],\n",
       "   [14, 21, 16, 12, 6]]])"
      ]
     },
     "execution_count": 357,
     "metadata": {},
     "output_type": "execute_result"
    }
   ],
   "source": [
    "emptynums,finallist"
   ]
  },
  {
   "cell_type": "code",
   "execution_count": null,
   "id": "genuine-skiing",
   "metadata": {},
   "outputs": [],
   "source": []
  },
  {
   "cell_type": "code",
   "execution_count": null,
   "id": "environmental-secretary",
   "metadata": {},
   "outputs": [],
   "source": []
  }
 ],
 "metadata": {
  "kernelspec": {
   "display_name": "Python 3",
   "language": "python",
   "name": "python3"
  },
  "language_info": {
   "codemirror_mode": {
    "name": "ipython",
    "version": 3
   },
   "file_extension": ".py",
   "mimetype": "text/x-python",
   "name": "python",
   "nbconvert_exporter": "python",
   "pygments_lexer": "ipython3",
   "version": "3.8.5"
  }
 },
 "nbformat": 4,
 "nbformat_minor": 5
}
