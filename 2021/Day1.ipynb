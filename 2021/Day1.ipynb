{
 "cells": [
  {
   "cell_type": "code",
   "execution_count": 98,
   "id": "popular-latvia",
   "metadata": {},
   "outputs": [],
   "source": []
  },
  {
   "cell_type": "code",
   "execution_count": 78,
   "id": "streaming-logic",
   "metadata": {},
   "outputs": [],
   "source": [
    "previouscount = finallist[0]\n",
    "finalcount = 0\n",
    "for x in finallist:\n",
    "#     if previouscount == 0:\n",
    "#         previouscount = x\n",
    "#     else:\n",
    "    if previouscount < x:\n",
    "        finalcount = finalcount + 1\n",
    "#         print(previouscount, x, finalcount)\n",
    "#         print('added 1')\n",
    "        previouscount = x\n",
    "    else:\n",
    "#         print(previouscount, x, finalcount)\n",
    "        previouscount = x"
   ]
  },
  {
   "cell_type": "code",
   "execution_count": 75,
   "id": "boring-communist",
   "metadata": {},
   "outputs": [
    {
     "data": {
      "text/plain": [
       "1501"
      ]
     },
     "execution_count": 75,
     "metadata": {},
     "output_type": "execute_result"
    }
   ],
   "source": [
    "finalcount"
   ]
  },
  {
   "cell_type": "code",
   "execution_count": 99,
   "id": "aerial-mixer",
   "metadata": {},
   "outputs": [
    {
     "data": {
      "text/plain": [
       "2000"
      ]
     },
     "execution_count": 99,
     "metadata": {},
     "output_type": "execute_result"
    }
   ],
   "source": [
    "len(finallist)"
   ]
  },
  {
   "cell_type": "code",
   "execution_count": 2,
   "id": "framed-pierce",
   "metadata": {},
   "outputs": [
    {
     "data": {
      "text/plain": [
       "array([ 150.,  152.,  155., ..., 7751., 7757., 7739.])"
      ]
     },
     "execution_count": 2,
     "metadata": {},
     "output_type": "execute_result"
    }
   ],
   "source": [
    "import numpy as np\n",
    "# datanew = open(\"Day1input.txt\")\n",
    "# dataread = datanew.read()\n",
    "# data = dataread.splitlines()\n",
    "# data = np.asarray(data)\n",
    "data = np.genfromtxt(\"Input/Day1Input.txt\")\n",
    "# result = np.sum(data[1:]- data[:-1] > 0)\n",
    "\n",
    "data"
   ]
  },
  {
   "cell_type": "code",
   "execution_count": 115,
   "id": "front-publication",
   "metadata": {},
   "outputs": [],
   "source": [
    "previouscount = data[0]\n",
    "finalcount = 0\n",
    "for x in data:\n",
    "    if previouscount < x:\n",
    "        finalcount = finalcount + 1\n",
    "#         print(previouscount, x, finalcount)\n",
    "        previouscount = x\n",
    "    else:\n",
    "#         print(previouscount, x, finalcount)\n",
    "        previouscount = x"
   ]
  },
  {
   "cell_type": "code",
   "execution_count": 116,
   "id": "furnished-combine",
   "metadata": {},
   "outputs": [
    {
     "data": {
      "text/plain": [
       "1502"
      ]
     },
     "execution_count": 116,
     "metadata": {},
     "output_type": "execute_result"
    }
   ],
   "source": [
    "finalcount"
   ]
  },
  {
   "cell_type": "code",
   "execution_count": 145,
   "id": "classified-annex",
   "metadata": {},
   "outputs": [
    {
     "data": {
      "text/plain": [
       "array([ 150.,  152.,  155., ..., 7751., 7757., 7739.])"
      ]
     },
     "execution_count": 145,
     "metadata": {},
     "output_type": "execute_result"
    }
   ],
   "source": [
    "datalearn = data\n",
    "datalearn"
   ]
  },
  {
   "cell_type": "code",
   "execution_count": 147,
   "id": "removable-galaxy",
   "metadata": {},
   "outputs": [],
   "source": [
    "\n",
    "finaltrip = 0\n",
    "previoustrip = datalearn[0] + datalearn[1] + datalearn[2]\n",
    "for x in range(len(datalearn)-2):\n",
    "#     print(datalearn[counter],datalearn[counter+1],datalearn[counter+2])\n",
    "#     print(datalearn[counter] + datalearn[counter+1] + datalearn[counter+2])\n",
    "    newtrip = datalearn[x] + datalearn[x+1] + datalearn[x+2]\n",
    "#     print(previoustrip, newtrip)\n",
    "    if previoustrip < newtrip:\n",
    "        finaltrip += 1\n",
    "        previoustrip = datalearn[x] + datalearn[x+1] + datalearn[x+2]\n",
    "    else:\n",
    "        previoustrip = datalearn[x] + datalearn[x+1] + datalearn[x+2]"
   ]
  },
  {
   "cell_type": "code",
   "execution_count": 148,
   "id": "median-precipitation",
   "metadata": {},
   "outputs": [
    {
     "data": {
      "text/plain": [
       "1538"
      ]
     },
     "execution_count": 148,
     "metadata": {},
     "output_type": "execute_result"
    }
   ],
   "source": [
    "finaltrip"
   ]
  },
  {
   "cell_type": "code",
   "execution_count": null,
   "id": "previous-ensemble",
   "metadata": {},
   "outputs": [],
   "source": [
    "# Proper Answers\n",
    "return sum([x < y for x, y in zip(numbers, numbers[1:])])\n",
    "result = np.sum(data[1:]- data[:-1] > 0)"
   ]
  }
 ],
 "metadata": {
  "kernelspec": {
   "display_name": "Python 3",
   "language": "python",
   "name": "python3"
  },
  "language_info": {
   "codemirror_mode": {
    "name": "ipython",
    "version": 3
   },
   "file_extension": ".py",
   "mimetype": "text/x-python",
   "name": "python",
   "nbconvert_exporter": "python",
   "pygments_lexer": "ipython3",
   "version": "3.8.5"
  }
 },
 "nbformat": 4,
 "nbformat_minor": 5
}
