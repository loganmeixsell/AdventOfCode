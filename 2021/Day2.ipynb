{
 "cells": [
  {
   "cell_type": "code",
   "execution_count": 32,
   "id": "mature-secretariat",
   "metadata": {},
   "outputs": [],
   "source": []
  },
  {
   "cell_type": "code",
   "execution_count": 11,
   "id": "bearing-edmonton",
   "metadata": {},
   "outputs": [],
   "source": [
    "newlist = []\n",
    "for x in data:\n",
    "    newlist.append(x.split())\n",
    "#     print(x.split())"
   ]
  },
  {
   "cell_type": "code",
   "execution_count": 28,
   "id": "hourly-recommendation",
   "metadata": {},
   "outputs": [],
   "source": [
    "horizontal = 0\n",
    "depth = 0\n",
    "for x in newlist:\n",
    "    if x[0] =='forward':\n",
    "        horizontal += int(x[1])\n",
    "    elif x[0] =='down':\n",
    "        depth += int(x[1])\n",
    "    elif x[0] =='up':\n",
    "        depth -= int(x[1])\n"
   ]
  },
  {
   "cell_type": "code",
   "execution_count": 29,
   "id": "english-census",
   "metadata": {},
   "outputs": [
    {
     "name": "stdout",
     "output_type": "stream",
     "text": [
      "2003 980\n"
     ]
    }
   ],
   "source": [
    "print(horizontal, depth)"
   ]
  },
  {
   "cell_type": "code",
   "execution_count": 61,
   "id": "marine-journal",
   "metadata": {},
   "outputs": [
    {
     "ename": "IndentationError",
     "evalue": "expected an indented block (<ipython-input-61-cac524caa2cf>, line 9)",
     "output_type": "error",
     "traceback": [
      "\u001b[1;36m  File \u001b[1;32m\"<ipython-input-61-cac524caa2cf>\"\u001b[1;36m, line \u001b[1;32m9\u001b[0m\n\u001b[1;33m    return newlist\u001b[0m\n\u001b[1;37m    ^\u001b[0m\n\u001b[1;31mIndentationError\u001b[0m\u001b[1;31m:\u001b[0m expected an indented block\n"
     ]
    }
   ],
   "source": [
    "def cleandata():\n",
    "    datanew = open(\"Input/Day2input.txt\")\n",
    "    dataread = datanew.read()\n",
    "    data = dataread.splitlines()\n",
    "    newlist = []\n",
    "    for x in data:\n",
    "        newlist.append(x.split())\n",
    "    return newlist\n",
    "\n",
    "def depthcalc(moves):\n",
    "    horizontal = 0\n",
    "    depth = 0\n",
    "    for x in moves:\n",
    "        if x[0] =='forward':\n",
    "            horizontal += int(x[1])\n",
    "        elif x[0] =='down':\n",
    "            depth += int(x[1])\n",
    "        elif x[0] =='up':\n",
    "            depth -= int(x[1])\n",
    "    print(horizontal, depth, (horizontal * depth))"
   ]
  },
  {
   "cell_type": "code",
   "execution_count": 33,
   "id": "studied-proposal",
   "metadata": {},
   "outputs": [
    {
     "name": "stdout",
     "output_type": "stream",
     "text": [
      "2003 980 1962940\n"
     ]
    }
   ],
   "source": [
    "newlist = cleandata()\n",
    "depthcalc(newlist)"
   ]
  },
  {
   "cell_type": "code",
   "execution_count": 59,
   "id": "beginning-pursuit",
   "metadata": {},
   "outputs": [],
   "source": [
    "def depthcalcwithaim(moves):\n",
    "    horizontal = 0\n",
    "    depth = 0\n",
    "    aim = 0\n",
    "    for x in moves:\n",
    "        if x[0] =='forward':\n",
    "            horizontal += int(x[1])\n",
    "            depth += (int(x[1]) * aim)\n",
    "        elif x[0] =='down':\n",
    "#             depth += int(x[1])\n",
    "            aim += int(x[1])\n",
    "        elif x[0] =='up':\n",
    "#             depth -= int(x[1])\n",
    "            aim -= int(x[1])\n",
    "    print(horizontal, depth, (horizontal * depth))"
   ]
  },
  {
   "cell_type": "code",
   "execution_count": 60,
   "id": "decimal-symposium",
   "metadata": {},
   "outputs": [
    {
     "name": "stdout",
     "output_type": "stream",
     "text": [
      "2003 905474 1813664422\n"
     ]
    }
   ],
   "source": [
    "depthcalcwithaim(newlist)"
   ]
  },
  {
   "cell_type": "code",
   "execution_count": 5,
   "id": "incoming-pittsburgh",
   "metadata": {},
   "outputs": [],
   "source": [
    "# Using csv to open a file\n",
    "# with open(\"data\\\\prob3.txt\", mode='r') as f:\n",
    "#     reader = csv.reader(f, delimiter=' ')\n",
    "\n",
    "#     for row in reader:\n",
    "#         data.append(row)\n",
    "\n",
    "# Stripping a list\n",
    "with open('Input/Day2Input.txt', 'r') as aoc_input:\n",
    "    input_lines = [line.strip().split(' ') for line in aoc_input.readlines()]\n",
    "    input_lines = [(x, int(y)) for [x, y] in input_lines]\n"
   ]
  },
  {
   "cell_type": "code",
   "execution_count": 12,
   "id": "victorian-heath",
   "metadata": {},
   "outputs": [
    {
     "ename": "SyntaxError",
     "evalue": "unexpected EOF while parsing (<ipython-input-12-92f30f04e06a>, line 2)",
     "output_type": "error",
     "traceback": [
      "\u001b[1;36m  File \u001b[1;32m\"<ipython-input-12-92f30f04e06a>\"\u001b[1;36m, line \u001b[1;32m2\u001b[0m\n\u001b[1;33m    for line in aoc_input.readlines():\u001b[0m\n\u001b[1;37m                                      ^\u001b[0m\n\u001b[1;31mSyntaxError\u001b[0m\u001b[1;31m:\u001b[0m unexpected EOF while parsing\n"
     ]
    }
   ],
   "source": [
    "with open('Input/Day2Input.txt', 'r') as aoc_input:\n",
    "    for line in aoc_input.readlines():"
   ]
  },
  {
   "cell_type": "code",
   "execution_count": null,
   "id": "relative-electronics",
   "metadata": {},
   "outputs": [],
   "source": []
  }
 ],
 "metadata": {
  "kernelspec": {
   "display_name": "Python 3",
   "language": "python",
   "name": "python3"
  },
  "language_info": {
   "codemirror_mode": {
    "name": "ipython",
    "version": 3
   },
   "file_extension": ".py",
   "mimetype": "text/x-python",
   "name": "python",
   "nbconvert_exporter": "python",
   "pygments_lexer": "ipython3",
   "version": "3.8.5"
  }
 },
 "nbformat": 4,
 "nbformat_minor": 5
}
