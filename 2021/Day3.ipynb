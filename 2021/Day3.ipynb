{
 "cells": [
  {
   "cell_type": "code",
   "execution_count": null,
   "id": "fantastic-genetics",
   "metadata": {},
   "outputs": [],
   "source": []
  },
  {
   "cell_type": "code",
   "execution_count": 2,
   "id": "informative-travel",
   "metadata": {},
   "outputs": [],
   "source": []
  },
  {
   "cell_type": "code",
   "execution_count": 273,
   "id": "proud-specialist",
   "metadata": {},
   "outputs": [
    {
     "data": {
      "text/plain": [
       "['011111111100',\n",
       " '100001011111',\n",
       " '011010010010',\n",
       " '100110110110',\n",
       " '001000110001']"
      ]
     },
     "execution_count": 273,
     "metadata": {},
     "output_type": "execute_result"
    }
   ],
   "source": [
    "def cleandata():\n",
    "    positions = []\n",
    "    datanew = open(\"Input/Day3input.txt\")\n",
    "    datanew = datanew.read()\n",
    "    datanew = datanew.splitlines()\n",
    "    for x in datanew:\n",
    "        positions.append(int(x))\n",
    "    return datanew\n",
    "positions = cleandata()\n",
    "positions[:5]"
   ]
  },
  {
   "cell_type": "code",
   "execution_count": null,
   "id": "major-catering",
   "metadata": {},
   "outputs": [],
   "source": []
  },
  {
   "cell_type": "code",
   "execution_count": 158,
   "id": "sought-thumb",
   "metadata": {},
   "outputs": [],
   "source": [
    "#answer for 1\n",
    "def binaryfinder(positions):\n",
    "    listloop = []\n",
    "    backwardsloop = []\n",
    "    gamma = 0\n",
    "    epsilon = 0\n",
    "    for i in range(len(positions[0])):\n",
    "        zeros = 0\n",
    "        ones = 0\n",
    "        for x in positions:\n",
    "            if int(x[i]) == 0:\n",
    "                zeros += 1\n",
    "            elif int(x[i]) == 1:\n",
    "                ones += 1\n",
    "        if zeros < ones:\n",
    "            listloop.append(\"1\")\n",
    "        else:\n",
    "            listloop.append(\"0\")\n",
    "\n",
    "    for x in listloop:\n",
    "        if int(x) == 0:\n",
    "            backwardsloop.append('1')\n",
    "        else:\n",
    "            backwardsloop.append('0')\n",
    "    backwardsloop\n",
    "    gamma = int(\"\".join(listloop))\n",
    "    epsilon = int(\"\".join(backwardsloop))\n",
    "    return (int(str(gamma),2) * int(str(epsilon),2))"
   ]
  },
  {
   "cell_type": "code",
   "execution_count": 159,
   "id": "short-crack",
   "metadata": {},
   "outputs": [
    {
     "name": "stdout",
     "output_type": "stream",
     "text": [
      "2250414\n"
     ]
    }
   ],
   "source": [
    "finalnum = binaryfinder(positions)\n",
    "print (finalnum)"
   ]
  },
  {
   "cell_type": "code",
   "execution_count": 95,
   "id": "victorian-omaha",
   "metadata": {},
   "outputs": [
    {
     "name": "stdout",
     "output_type": "stream",
     "text": [
      "9\n"
     ]
    }
   ],
   "source": [
    "print(int(str(epsilon),2))"
   ]
  },
  {
   "cell_type": "code",
   "execution_count": 172,
   "id": "proper-concentration",
   "metadata": {},
   "outputs": [],
   "source": [
    "positions = ['00100',\n",
    "'11110',\n",
    "'10110',\n",
    "'10111',\n",
    "'10101',\n",
    "'01111',\n",
    "'00111',\n",
    "'11100',\n",
    "'10000',\n",
    "'11001',\n",
    "'00010',\n",
    "'01010']\n",
    "positionsremoval = ['00100',\n",
    "'11110',\n",
    "'10110',\n",
    "'10111',\n",
    "'10101',\n",
    "'01111',\n",
    "'00111',\n",
    "'11100',\n",
    "'10000',\n",
    "'11001',\n",
    "'00010',\n",
    "'01010']"
   ]
  },
  {
   "cell_type": "code",
   "execution_count": 149,
   "id": "loaded-arcade",
   "metadata": {},
   "outputs": [],
   "source": [
    "def ratingcalc(positions):\n",
    "    listloop = []\n",
    "    backwardsloop = []\n",
    "    gamma = 0\n",
    "    epsilon = 0\n",
    "    for i in range(len(positions[0])):\n",
    "        zeros = 0\n",
    "        ones = 0\n",
    "        for x in positions:\n",
    "            if int(x[i]) == 0:\n",
    "                zeros += 1\n",
    "            elif int(x[i]) == 1:\n",
    "                ones += 1\n",
    "        print(zeros, ones)\n",
    "        if zeros < ones or zeros == ones:\n",
    "            listloop.append(\"1\")\n",
    "        else:\n",
    "            listloop.append(\"0\")\n",
    "    return listloop"
   ]
  },
  {
   "cell_type": "code",
   "execution_count": 150,
   "id": "explicit-proof",
   "metadata": {},
   "outputs": [
    {
     "name": "stdout",
     "output_type": "stream",
     "text": [
      "5 7\n",
      "7 5\n",
      "4 8\n",
      "5 7\n",
      "7 5\n"
     ]
    },
    {
     "data": {
      "text/plain": [
       "['1', '0', '1', '1', '0']"
      ]
     },
     "execution_count": 150,
     "metadata": {},
     "output_type": "execute_result"
    }
   ],
   "source": [
    "list2 = ratingcalc(positions)\n",
    "list2"
   ]
  },
  {
   "cell_type": "code",
   "execution_count": 143,
   "id": "grand-gardening",
   "metadata": {},
   "outputs": [
    {
     "data": {
      "text/plain": [
       "['1', '0', '1', '1', '0']"
      ]
     },
     "execution_count": 143,
     "metadata": {},
     "output_type": "execute_result"
    }
   ],
   "source": [
    "list2"
   ]
  },
  {
   "cell_type": "code",
   "execution_count": 153,
   "id": "parental-celebration",
   "metadata": {},
   "outputs": [
    {
     "name": "stdout",
     "output_type": "stream",
     "text": [
      "00100 0 1\n",
      "trash\n"
     ]
    },
    {
     "ename": "ValueError",
     "evalue": "list.remove(x): x not in list",
     "output_type": "error",
     "traceback": [
      "\u001b[1;31m---------------------------------------------------------------------------\u001b[0m",
      "\u001b[1;31mValueError\u001b[0m                                Traceback (most recent call last)",
      "\u001b[1;32m<ipython-input-153-dc9e166e128a>\u001b[0m in \u001b[0;36m<module>\u001b[1;34m\u001b[0m\n\u001b[0;32m      7\u001b[0m         \u001b[1;32melse\u001b[0m\u001b[1;33m:\u001b[0m\u001b[1;33m\u001b[0m\u001b[1;33m\u001b[0m\u001b[0m\n\u001b[0;32m      8\u001b[0m             \u001b[0mprint\u001b[0m\u001b[1;33m(\u001b[0m\u001b[1;34m\"trash\"\u001b[0m\u001b[1;33m)\u001b[0m\u001b[1;33m\u001b[0m\u001b[1;33m\u001b[0m\u001b[0m\n\u001b[1;32m----> 9\u001b[1;33m             \u001b[0mpositionsremoval\u001b[0m\u001b[1;33m.\u001b[0m\u001b[0mremove\u001b[0m\u001b[1;33m(\u001b[0m\u001b[0mstr\u001b[0m\u001b[1;33m(\u001b[0m\u001b[0mx\u001b[0m\u001b[1;33m)\u001b[0m\u001b[1;33m)\u001b[0m\u001b[1;33m\u001b[0m\u001b[1;33m\u001b[0m\u001b[0m\n\u001b[0m\u001b[0;32m     10\u001b[0m \u001b[1;31m#     print(positionsremoval)\u001b[0m\u001b[1;33m\u001b[0m\u001b[1;33m\u001b[0m\u001b[1;33m\u001b[0m\u001b[0m\n",
      "\u001b[1;31mValueError\u001b[0m: list.remove(x): x not in list"
     ]
    }
   ],
   "source": [
    "# positionsremoval = positions\n",
    "for count,value in enumerate(list2):\n",
    "    for x in positions:\n",
    "        print(str(x), count, value)\n",
    "        if x[count] == value:\n",
    "            print(\"keep\")\n",
    "        else:\n",
    "            print(\"trash\")\n",
    "            positionsremoval.remove(str(x))\n",
    "#     print(positionsremoval)"
   ]
  },
  {
   "cell_type": "code",
   "execution_count": 154,
   "id": "dutch-insight",
   "metadata": {},
   "outputs": [
    {
     "data": {
      "text/plain": [
       "['00100',\n",
       " '11110',\n",
       " '10110',\n",
       " '10111',\n",
       " '10101',\n",
       " '01111',\n",
       " '00111',\n",
       " '11100',\n",
       " '10000',\n",
       " '11001',\n",
       " '00010',\n",
       " '01010']"
      ]
     },
     "execution_count": 154,
     "metadata": {},
     "output_type": "execute_result"
    }
   ],
   "source": [
    "positions"
   ]
  },
  {
   "cell_type": "code",
   "execution_count": 131,
   "id": "economic-surname",
   "metadata": {},
   "outputs": [],
   "source": [
    "def removebits(positions,bittokeep,location):\n",
    "    positionsleft = []\n",
    "    for x in positions:\n",
    "#         print(x[location],bittokeep,location)\n",
    "        if int(x[location])==bittokeep:\n",
    "            positionsleft.append(x)\n",
    "#             print(\"keep\")\n",
    "        else:\n",
    "            pass\n",
    "#             print(\"trash\")\n",
    "    return positionsleft"
   ]
  },
  {
   "cell_type": "code",
   "execution_count": 132,
   "id": "loved-runner",
   "metadata": {},
   "outputs": [
    {
     "name": "stdout",
     "output_type": "stream",
     "text": [
      "['00100', '11110', '10110', '10111', '10101', '01111', '00111', '11100', '10000', '11001', '00010', '01010']\n",
      "['00100', '11110', '10110', '10111', '10101', '01111', '00111', '11100', '10000', '11001', '00010', '01010']\n"
     ]
    }
   ],
   "source": [
    "print(positions)\n",
    "print(positionsremoval)"
   ]
  },
  {
   "cell_type": "code",
   "execution_count": 139,
   "id": "empty-disposal",
   "metadata": {},
   "outputs": [
    {
     "name": "stdout",
     "output_type": "stream",
     "text": [
      "['11110', '10110', '10111', '10101', '11100', '10000', '11001']\n",
      "['10110', '10111', '10101', '10000']\n",
      "['10110', '10111', '10101']\n",
      "['10110', '10111']\n",
      "['10110']\n"
     ]
    }
   ],
   "source": [
    "for i in range(len(positions[0])):\n",
    "#     print(positions,list2[i],i)\n",
    "    positionsleft = removebits(positions,int(list2[i]),i)\n",
    "    positions = positionsleft\n",
    "    print(positions)"
   ]
  },
  {
   "cell_type": "code",
   "execution_count": 110,
   "id": "reliable-japanese",
   "metadata": {},
   "outputs": [
    {
     "data": {
      "text/plain": [
       "['1', '0', '1', '1', '0']"
      ]
     },
     "execution_count": 110,
     "metadata": {},
     "output_type": "execute_result"
    }
   ],
   "source": [
    "list2"
   ]
  },
  {
   "cell_type": "code",
   "execution_count": 179,
   "id": "broad-reflection",
   "metadata": {},
   "outputs": [
    {
     "name": "stdout",
     "output_type": "stream",
     "text": [
      "['1', '0', '1', '1', '0']\n"
     ]
    }
   ],
   "source": [
    "def ratingcalc(positions):\n",
    "    listloop = []\n",
    "    backwardsloop = []\n",
    "    gamma = 0\n",
    "    epsilon = 0\n",
    "    for i in range(len(positions[0])):\n",
    "        zeros = 0\n",
    "        ones = 0\n",
    "        for x in positions:\n",
    "            if int(x[i]) == 0:\n",
    "                zeros += 1\n",
    "            elif int(x[i]) == 1:\n",
    "                ones += 1\n",
    "        if zeros < ones or zeros == ones:\n",
    "            listloop.append(\"1\")\n",
    "        else:\n",
    "            listloop.append(\"0\")\n",
    "    return listloop\n",
    "listloop = ratingcalc(positions)\n",
    "print(listloop)"
   ]
  },
  {
   "cell_type": "code",
   "execution_count": 162,
   "id": "young-folks",
   "metadata": {},
   "outputs": [
    {
     "name": "stdout",
     "output_type": "stream",
     "text": [
      "['00100', '11110', '10110', '10111', '10101', '01111', '00111', '11100', '10000', '11001', '00010', '01010']\n"
     ]
    }
   ],
   "source": [
    "print(positions)"
   ]
  },
  {
   "cell_type": "code",
   "execution_count": 263,
   "id": "controlling-antibody",
   "metadata": {},
   "outputs": [],
   "source": [
    "def oxygenrating(positions):\n",
    "    for i in range(len(positions[0])):\n",
    "        if len(positions) < 2:\n",
    "            return positions\n",
    "        listloop = ratingcalc(positions)\n",
    "#         print (positions, listloop[i],i)\n",
    "        positions = removebits(positions,int(listloop[i]),i)\n",
    "#         print(positions)\n",
    "        if i == len(positions[0])-1:\n",
    "            return positions\n",
    "#         listloop = ratingcalc(positions)"
   ]
  },
  {
   "cell_type": "code",
   "execution_count": 274,
   "id": "athletic-yugoslavia",
   "metadata": {},
   "outputs": [
    {
     "name": "stdout",
     "output_type": "stream",
     "text": [
      "['011110001111']\n"
     ]
    }
   ],
   "source": [
    "o2 = oxygenrating(positions)\n",
    "print(o2)"
   ]
  },
  {
   "cell_type": "code",
   "execution_count": 230,
   "id": "protective-employment",
   "metadata": {},
   "outputs": [],
   "source": []
  },
  {
   "cell_type": "code",
   "execution_count": 271,
   "id": "classified-norway",
   "metadata": {},
   "outputs": [],
   "source": [
    "def co2rating(positions):\n",
    "    for i in range(len(positions[0])):\n",
    "        if len(positions) < 2:\n",
    "            return positions\n",
    "        listloop = ratingcalc(positions)\n",
    "        backwardsloop = []\n",
    "        for x in listloop:\n",
    "            if int(x) == 0:\n",
    "                backwardsloop.append('1')\n",
    "            else:\n",
    "                backwardsloop.append('0')\n",
    "        listloop = backwardsloop\n",
    "#         print (positions, listloop[i],i)\n",
    "        positions = removebits(positions,int(listloop[i]),i)\n",
    "\n",
    "\n",
    "#         print(positions)\n"
   ]
  },
  {
   "cell_type": "code",
   "execution_count": 275,
   "id": "disciplinary-trading",
   "metadata": {},
   "outputs": [
    {
     "name": "stdout",
     "output_type": "stream",
     "text": [
      "['110001001001']\n"
     ]
    }
   ],
   "source": [
    "co2 = co2rating(positions)\n",
    "print(co2)"
   ]
  },
  {
   "cell_type": "code",
   "execution_count": 270,
   "id": "wanted-content",
   "metadata": {},
   "outputs": [
    {
     "data": {
      "text/plain": [
       "6085575"
      ]
     },
     "execution_count": 270,
     "metadata": {},
     "output_type": "execute_result"
    }
   ],
   "source": [
    "(int(str(o2[0]),2) * int(str(co2[0]),2))\n",
    "# 6085575 is the answer"
   ]
  },
  {
   "cell_type": "code",
   "execution_count": 259,
   "id": "refined-training",
   "metadata": {},
   "outputs": [
    {
     "data": {
      "text/plain": [
       "10"
      ]
     },
     "execution_count": 259,
     "metadata": {},
     "output_type": "execute_result"
    }
   ],
   "source": [
    "int(str(co2[0]),2)"
   ]
  },
  {
   "cell_type": "code",
   "execution_count": null,
   "id": "sweet-arabic",
   "metadata": {},
   "outputs": [],
   "source": []
  }
 ],
 "metadata": {
  "kernelspec": {
   "display_name": "Python 3",
   "language": "python",
   "name": "python3"
  },
  "language_info": {
   "codemirror_mode": {
    "name": "ipython",
    "version": 3
   },
   "file_extension": ".py",
   "mimetype": "text/x-python",
   "name": "python",
   "nbconvert_exporter": "python",
   "pygments_lexer": "ipython3",
   "version": "3.8.5"
  }
 },
 "nbformat": 4,
 "nbformat_minor": 5
}
