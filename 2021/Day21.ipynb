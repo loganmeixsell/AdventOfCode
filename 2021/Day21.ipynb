{
 "cells": [
  {
   "cell_type": "code",
   "execution_count": 61,
   "id": "through-bonus",
   "metadata": {},
   "outputs": [],
   "source": [
    "def part1():\n",
    "    datanew = open(\"Input/Day21Input.txt\")\n",
    "    datanew = datanew.read()\n",
    "    datanewsplit = datanew.split('\\n')\n",
    "    # datanewsplit\n",
    "    pos1 = int(datanewsplit[0][-1:])\n",
    "    pos2 = int(datanewsplit[1][-1:])\n",
    "\n",
    "    i = 1\n",
    "#     pos1 = 4\n",
    "#     pos2 = 8\n",
    "    totalscore1 = 0\n",
    "    totalscore2 = 0\n",
    "    totalrolls = 0 \n",
    "    while i < 1000:\n",
    "    #     print(i, i+1, i+2, (i + (i+1) + (i+2)))\n",
    "        totalmove1 = (i+1)*3\n",
    "        totalmove2 = (i+4)*3\n",
    "    #     print(totalmove1, totalmove2)\n",
    "    #     print(pos1 + totalmove1)\n",
    "    #     print(pos2 + totalmove2)\n",
    "        pos1 += totalmove1\n",
    "        pos2 += totalmove2\n",
    "        totalrolls += 3\n",
    "        if pos1%10 == 0:\n",
    "#             print(\"add 10\")\n",
    "            totalscore1 += 10\n",
    "        else:\n",
    "#             print(f\"add {pos1%10}\")\n",
    "            totalscore1 += (pos1%10)\n",
    "        if totalscore1 == 1000:\n",
    "            return (totalscore1, totalscore2, totalrolls, (totalscore2*totalrolls))\n",
    "        if pos2%10 == 0:\n",
    "#             print(\"add 10\")\n",
    "            totalscore2 += 10\n",
    "        else:\n",
    "#             print(f\"add {pos2%10}\")\n",
    "            totalscore2 += (pos2%10)\n",
    "        i += 6\n",
    "        totalrolls +=3\n",
    "        if totalscore1 >= 1000 or totalscore2 >= 1000:\n",
    "            return (totalscore1, totalscore2, totalrolls, (totalscore1*totalrolls))\n",
    "# print(totalscore1, totalscore2, totalrolls)"
   ]
  },
  {
   "cell_type": "code",
   "execution_count": 62,
   "id": "clear-bunny",
   "metadata": {},
   "outputs": [
    {
     "data": {
      "text/plain": [
       "(775, 1005, 930, 720750)"
      ]
     },
     "execution_count": 62,
     "metadata": {},
     "output_type": "execute_result"
    }
   ],
   "source": [
    "part1()"
   ]
  },
  {
   "cell_type": "code",
   "execution_count": 56,
   "id": "protective-geneva",
   "metadata": {},
   "outputs": [
    {
     "data": {
      "text/plain": [
       "'5'"
      ]
     },
     "execution_count": 56,
     "metadata": {},
     "output_type": "execute_result"
    }
   ],
   "source": [
    "datanew = open(\"Input/Day21Input.txt\")\n",
    "datanew = datanew.read()\n",
    "datanewsplit = datanew.split('\\n')\n",
    "# datanewsplit\n",
    "datanewsplit[0][-1:]\n",
    "datanewsplit[1][-1:]"
   ]
  },
  {
   "cell_type": "code",
   "execution_count": 76,
   "id": "ceramic-biotechnology",
   "metadata": {},
   "outputs": [
    {
     "data": {
      "text/plain": [
       "1853020188851841"
      ]
     },
     "execution_count": 76,
     "metadata": {},
     "output_type": "execute_result"
    }
   ],
   "source": [
    "444356092776315\n",
    "341960390180808\n",
    "205891132094649\n"
   ]
  },
  {
   "cell_type": "code",
   "execution_count": 80,
   "id": "amended-jungle",
   "metadata": {},
   "outputs": [
    {
     "data": {
      "text/plain": [
       "5559060566555523"
      ]
     },
     "execution_count": 80,
     "metadata": {},
     "output_type": "execute_result"
    }
   ],
   "source": [
    "27**11"
   ]
  },
  {
   "cell_type": "code",
   "execution_count": 90,
   "id": "connected-guarantee",
   "metadata": {},
   "outputs": [
    {
     "name": "stdout",
     "output_type": "stream",
     "text": [
      "919758187195363\n"
     ]
    }
   ],
   "source": [
    "data = open(\"Input/Day21Input.txt\")\n",
    "data = data.read()\n",
    "# p = list(map(int, data.split()))\n",
    "[3,5]\n",
    "cache = {}\n",
    "\n",
    "def c():\n",
    "    return [x + y + z for x in [1, 2, 3] for y in [1, 2, 3] for z in [1, 2, 3]]\n",
    "\n",
    "def u(p0, p1, s0 = 0, s1 = 0):\n",
    "    k = (p0, p1, s0, s1)\n",
    "    if k in cache:\n",
    "        return cache[k]\n",
    "    oc = [0, 0]\n",
    "    for r in c():\n",
    "        p0_ = p0 + r\n",
    "        p0_ = (p0_ - 1) % 10 + 1\n",
    "        s0_ = s0 + p0_\n",
    "        if s0_ >= 21:\n",
    "            oc[0] += 1\n",
    "        else:\n",
    "            dy, dx = u(p1, p0_, s1, s0_)\n",
    "            oc[0] += dx\n",
    "            oc[1] += dy\n",
    "    cache[k] = oc\n",
    "    return oc\n",
    "\n",
    "print(max(u(*p)))"
   ]
  },
  {
   "cell_type": "code",
   "execution_count": 88,
   "id": "undefined-russia",
   "metadata": {},
   "outputs": [],
   "source": [
    "data = open(\"Input/Day21Input.txt\")\n",
    "data = '5 6'\n",
    "p = list(map(int, data.split()))"
   ]
  },
  {
   "cell_type": "code",
   "execution_count": 99,
   "id": "precise-rating",
   "metadata": {},
   "outputs": [
    {
     "data": {
      "text/plain": [
       "[3,\n",
       " 4,\n",
       " 5,\n",
       " 4,\n",
       " 5,\n",
       " 6,\n",
       " 5,\n",
       " 6,\n",
       " 7,\n",
       " 4,\n",
       " 5,\n",
       " 6,\n",
       " 5,\n",
       " 6,\n",
       " 7,\n",
       " 6,\n",
       " 7,\n",
       " 8,\n",
       " 5,\n",
       " 6,\n",
       " 7,\n",
       " 6,\n",
       " 7,\n",
       " 8,\n",
       " 7,\n",
       " 8,\n",
       " 9]"
      ]
     },
     "execution_count": 99,
     "metadata": {},
     "output_type": "execute_result"
    }
   ],
   "source": [
    "[x + y + z for x in [1, 2, 3] for y in [1, 2, 3] for z in [1, 2, 3]]"
   ]
  },
  {
   "cell_type": "code",
   "execution_count": null,
   "id": "adopted-cornell",
   "metadata": {},
   "outputs": [],
   "source": []
  }
 ],
 "metadata": {
  "kernelspec": {
   "display_name": "Python 3",
   "language": "python",
   "name": "python3"
  },
  "language_info": {
   "codemirror_mode": {
    "name": "ipython",
    "version": 3
   },
   "file_extension": ".py",
   "mimetype": "text/x-python",
   "name": "python",
   "nbconvert_exporter": "python",
   "pygments_lexer": "ipython3",
   "version": "3.8.5"
  }
 },
 "nbformat": 4,
 "nbformat_minor": 5
}
