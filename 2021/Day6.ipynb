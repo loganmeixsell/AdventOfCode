{
 "cells": [
  {
   "cell_type": "code",
   "execution_count": 339,
   "id": "helpful-yellow",
   "metadata": {},
   "outputs": [],
   "source": [
    "import numpy as np\n",
    "datanew = open(\"Input/Day6Input.txt\")\n",
    "datanew = datanew.read()\n",
    "datanewsplit = datanew.split(',')\n",
    "datanewsplit1 = [x for x in datanewsplit]\n"
   ]
  },
  {
   "cell_type": "code",
   "execution_count": 341,
   "id": "silent-graphics",
   "metadata": {},
   "outputs": [],
   "source": [
    "# part 1\n",
    "fish = np.array([datanewsplit],dtype = int)\n",
    "for x in range(80-1):\n",
    "#     print(x)\n",
    "    fish = fish - 1\n",
    "#     print(fish)\n",
    "    fishadd = np.where(fish<1)\n",
    "    fish = np.where(fish < 1, 7 , fish)\n",
    "    fish = np.append(fish,[9 for x in range(len(fish[fishadd]))])\n",
    "#     unique, counts = np.unique(fish, return_counts=True)\n",
    "#     print(fish)"
   ]
  },
  {
   "cell_type": "code",
   "execution_count": 328,
   "id": "effective-queensland",
   "metadata": {},
   "outputs": [],
   "source": [
    "# part 2\n",
    "finaldict = {}\n",
    "for x in range(10):\n",
    "    finaldict[x] = 0\n",
    "for x in datanewsplit:\n",
    "    finaldict[int(x)] += 1\n",
    "\n",
    "fishdict = finaldict\n",
    "for x in range(256-1):\n",
    "    carryover = fishdict[1]\n",
    "    fishdict[1] = fishdict[2]\n",
    "    fishdict[2] = fishdict[3]\n",
    "    fishdict[3] = fishdict[4]\n",
    "    fishdict[4] = fishdict[5]\n",
    "    fishdict[5] = fishdict[6]\n",
    "    fishdict[6] = fishdict[7]\n",
    "    fishdict[7] = carryover + fishdict[8]\n",
    "    fishdict[8] = fishdict[9]\n",
    "    fishdict[9] = carryover\n",
    "    fishdict\n",
    "    \n",
    "finalvalue = 0\n",
    "for key,value in fishdict.items():\n",
    "    finalvalue += value\n",
    "finalvalue    "
   ]
  },
  {
   "cell_type": "code",
   "execution_count": 342,
   "id": "owned-period",
   "metadata": {},
   "outputs": [
    {
     "data": {
      "text/plain": [
       "372984"
      ]
     },
     "execution_count": 342,
     "metadata": {},
     "output_type": "execute_result"
    }
   ],
   "source": [
    "len(fish)"
   ]
  },
  {
   "cell_type": "code",
   "execution_count": null,
   "id": "dying-payday",
   "metadata": {},
   "outputs": [],
   "source": [
    "# deck or deque\n",
    "def run_smart_simulation(ages, duration):\n",
    "    age_queue = deque(ages)\n",
    "\n",
    "    for day in range(duration):\n",
    "        new_fish = age_queue.popleft()\n",
    "        # reset the 0 fish to 6\n",
    "        age_queue[6] += new_fish\n",
    "        # add the newly created fish to 8\n",
    "        age_queue.append(new_fish)\n",
    "    print(sum(age_queue))"
   ]
  },
  {
   "cell_type": "code",
   "execution_count": null,
   "id": "north-economics",
   "metadata": {},
   "outputs": [],
   "source": [
    "v = l.pop(0)\n",
    "    l.append(v)"
   ]
  },
  {
   "cell_type": "code",
   "execution_count": 347,
   "id": "faced-scholar",
   "metadata": {},
   "outputs": [],
   "source": [
    "\n",
    "    "
   ]
  },
  {
   "cell_type": "code",
   "execution_count": 348,
   "id": "conservative-timeline",
   "metadata": {},
   "outputs": [
    {
     "data": {
      "text/plain": [
       "{0: 0, 1: 145, 2: 41, 3: 45, 4: 42, 5: 27, 6: 0, 7: 0, 8: 0, 9: 0}"
      ]
     },
     "execution_count": 348,
     "metadata": {},
     "output_type": "execute_result"
    }
   ],
   "source": [
    "finaldict"
   ]
  },
  {
   "cell_type": "code",
   "execution_count": 349,
   "id": "mobile-motel",
   "metadata": {},
   "outputs": [],
   "source": [
    "finaldict = {}\n",
    "for x in range(10):\n",
    "    finaldict[x] = 0\n",
    "for x in datanewsplit:\n",
    "    finaldict[int(x)] += 1\n",
    "\n",
    "fishdict = finaldict\n",
    "for x in range(256-1):\n",
    "    carryover = fishdict[1]\n",
    "    fishdict[1] = fishdict[2]\n",
    "    fishdict[2] = fishdict[3]\n",
    "    fishdict[3] = fishdict[4]\n",
    "    fishdict[4] = fishdict[5]\n",
    "    fishdict[5] = fishdict[6]\n",
    "    fishdict[6] = fishdict[7]\n",
    "    fishdict[7] = carryover + fishdict[8]\n",
    "    fishdict[8] = fishdict[9]\n",
    "    fishdict[9] = carryover\n",
    "    fishdict\n",
    "    \n",
    "finalvalue = 0\n",
    "for key,value in fishdict.items():\n",
    "    finalvalue += value\n",
    "finalvalue    "
   ]
  },
  {
   "cell_type": "code",
   "execution_count": 350,
   "id": "italian-emerald",
   "metadata": {},
   "outputs": [
    {
     "data": {
      "text/plain": [
       "1681503251694"
      ]
     },
     "execution_count": 350,
     "metadata": {},
     "output_type": "execute_result"
    }
   ],
   "source": []
  },
  {
   "cell_type": "code",
   "execution_count": null,
   "id": "brilliant-discount",
   "metadata": {},
   "outputs": [],
   "source": []
  }
 ],
 "metadata": {
  "kernelspec": {
   "display_name": "Python 3",
   "language": "python",
   "name": "python3"
  },
  "language_info": {
   "codemirror_mode": {
    "name": "ipython",
    "version": 3
   },
   "file_extension": ".py",
   "mimetype": "text/x-python",
   "name": "python",
   "nbconvert_exporter": "python",
   "pygments_lexer": "ipython3",
   "version": "3.8.5"
  }
 },
 "nbformat": 4,
 "nbformat_minor": 5
}
