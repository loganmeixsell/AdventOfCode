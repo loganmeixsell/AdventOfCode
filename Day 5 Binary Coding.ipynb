{
 "cells": [
  {
   "cell_type": "code",
   "execution_count": 11,
   "id": "average-malta",
   "metadata": {},
   "outputs": [],
   "source": [
    "string = \"FBFBBFF\"\n",
    "row = []\n",
    "for numbers in range(128):\n",
    "    num.append(numbers)"
   ]
  },
  {
   "cell_type": "code",
   "execution_count": 55,
   "id": "tough-satellite",
   "metadata": {},
   "outputs": [],
   "source": [
    "string = \"BBFFBBFRLL\"\n",
    "row = []\n",
    "for numbers in range(128):\n",
    "    row.append(numbers)\n",
    "seats = []\n",
    "for seatnum in range(8):\n",
    "    seats.append(seatnum)\n",
    "for seat in string:\n",
    "    if seat == 'F':\n",
    "        row = row[:len(row)//2]\n",
    "    if seat == 'B':\n",
    "        row = row[len(row)//2:]\n",
    "    if seat == 'L':\n",
    "        seats = seats[:len(seats)//2]\n",
    "    if seat == 'R':\n",
    "        seats = seats[len(seats)//2:]"
   ]
  },
  {
   "cell_type": "code",
   "execution_count": 56,
   "id": "hazardous-audio",
   "metadata": {},
   "outputs": [
    {
     "name": "stdout",
     "output_type": "stream",
     "text": [
      "102 4 820\n"
     ]
    }
   ],
   "source": [
    "seatID = int(row[0]) * 8 + int(seats[0])\n",
    "print(row[0],seats[0], str(seatID))"
   ]
  },
  {
   "cell_type": "code",
   "execution_count": 48,
   "id": "understanding-garlic",
   "metadata": {},
   "outputs": [
    {
     "data": {
      "text/plain": [
       "44"
      ]
     },
     "execution_count": 48,
     "metadata": {},
     "output_type": "execute_result"
    }
   ],
   "source": [
    "int(row[0])"
   ]
  },
  {
   "cell_type": "code",
   "execution_count": 25,
   "id": "protected-algebra",
   "metadata": {},
   "outputs": [],
   "source": [
    "string = \"FBFBBFFRLR\"\n",
    "seats = []\n",
    "for seatnum in range(8):\n",
    "    seats.append(seatnum)\n",
    "for seat in string:\n",
    "    if seat == 'L':\n",
    "        seats = seats[:len(seats)//2]\n",
    "    if seat == 'R':\n",
    "        seats = seats[len(seats)//2:]"
   ]
  },
  {
   "cell_type": "code",
   "execution_count": 26,
   "id": "harmful-mediterranean",
   "metadata": {},
   "outputs": [
    {
     "data": {
      "text/plain": [
       "[5]"
      ]
     },
     "execution_count": 26,
     "metadata": {},
     "output_type": "execute_result"
    }
   ],
   "source": [
    "seats"
   ]
  },
  {
   "cell_type": "code",
   "execution_count": null,
   "id": "adopted-asbestos",
   "metadata": {},
   "outputs": [],
   "source": []
  }
 ],
 "metadata": {
  "kernelspec": {
   "display_name": "Python 3",
   "language": "python",
   "name": "python3"
  },
  "language_info": {
   "codemirror_mode": {
    "name": "ipython",
    "version": 3
   },
   "file_extension": ".py",
   "mimetype": "text/x-python",
   "name": "python",
   "nbconvert_exporter": "python",
   "pygments_lexer": "ipython3",
   "version": "3.8.5"
  }
 },
 "nbformat": 4,
 "nbformat_minor": 5
}
