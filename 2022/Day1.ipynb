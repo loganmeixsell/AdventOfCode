{
 "cells": [
  {
   "cell_type": "code",
   "execution_count": 1,
   "metadata": {},
   "outputs": [],
   "source": [
    "import pandas as pd"
   ]
  },
  {
   "cell_type": "code",
   "execution_count": 79,
   "metadata": {},
   "outputs": [],
   "source": [
    "with open(r'Input\\Day1Input.txt') as f:\n",
    "    lines = f.readlines()\n",
    "# lines"
   ]
  },
  {
   "cell_type": "code",
   "execution_count": 78,
   "metadata": {},
   "outputs": [],
   "source": [
    "mylist = []\n",
    "for x in lines:\n",
    "    if x != '\\n':\n",
    "        # print(x.split('\\n')[0])\n",
    "        mylist.append(int(x.split('\\n')[0]))\n",
    "\n",
    "    if x == '\\n':\n",
    "        # print(\"\")\n",
    "        mylist.append(\"Split\")\n",
    "# print(mylist)"
   ]
  },
  {
   "cell_type": "code",
   "execution_count": 68,
   "metadata": {},
   "outputs": [
    {
     "data": {
      "text/plain": [
       "[(17, 66239), (26, 66606), (196, 69501)]"
      ]
     },
     "execution_count": 68,
     "metadata": {},
     "output_type": "execute_result"
    }
   ],
   "source": [
    "totalcals = {}\n",
    "i = 0\n",
    "totalsum = 0\n",
    "for x in mylist:\n",
    "    if x == 'Split':\n",
    "        totalcals[i] = totalsum\n",
    "        totalsum = 0\n",
    "        i += 1\n",
    "    else:\n",
    "        totalsum += x\n",
    "        # totalcals[i] += x\n",
    "totalcals = dict(sorted(totalcals.items(), key=lambda item: item[1]))\n",
    "list(totalcals.items())[-3:]"
   ]
  },
  {
   "cell_type": "code",
   "execution_count": 75,
   "metadata": {},
   "outputs": [
    {
     "name": "stdout",
     "output_type": "stream",
     "text": [
      "196\n",
      "69501\n"
     ]
    }
   ],
   "source": [
    "for value in list(totalcals.items())[-1]:\n",
    "    print(value)\n",
    "    "
   ]
  },
  {
   "cell_type": "code",
   "execution_count": 77,
   "metadata": {},
   "outputs": [
    {
     "name": "stdout",
     "output_type": "stream",
     "text": [
      "(17, 66239)\n",
      "(26, 66606)\n",
      "(196, 69501)\n"
     ]
    }
   ],
   "source": [
    "for x in list(totalcals.items())[-3:]:\n",
    "    print(x)"
   ]
  },
  {
   "cell_type": "code",
   "execution_count": null,
   "metadata": {},
   "outputs": [],
   "source": []
  }
 ],
 "metadata": {
  "kernelspec": {
   "display_name": "Python 3.8.5 ('newdev')",
   "language": "python",
   "name": "python3"
  },
  "language_info": {
   "codemirror_mode": {
    "name": "ipython",
    "version": 3
   },
   "file_extension": ".py",
   "mimetype": "text/x-python",
   "name": "python",
   "nbconvert_exporter": "python",
   "pygments_lexer": "ipython3",
   "version": "3.8.5"
  },
  "orig_nbformat": 4,
  "vscode": {
   "interpreter": {
    "hash": "417aa6de7f85fea467e0fd27d4a3fb365b6c01c75320912d1acd7cd34f032e39"
   }
  }
 },
 "nbformat": 4,
 "nbformat_minor": 2
}
